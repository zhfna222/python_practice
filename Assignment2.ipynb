{
 "cells": [
  {
   "cell_type": "markdown",
   "metadata": {},
   "source": [
    "##Assignment2"
   ]
  },
  {
   "cell_type": "markdown",
   "metadata": {},
   "source": [
    "1 : 다음 6 개의 Expression에 대해 Evaluation 결과 값을 출력하고, 해당 결과가 나온 이유에 대해 설명하시오"
   ]
  },
  {
   "cell_type": "code",
   "execution_count": 1,
   "metadata": {
    "collapsed": false
   },
   "outputs": [
    {
     "data": {
      "text/plain": [
       "4"
      ]
     },
     "execution_count": 1,
     "metadata": {},
     "output_type": "execute_result"
    }
   ],
   "source": [
    "1 and 2 and 3 and 4"
   ]
  },
  {
   "cell_type": "markdown",
   "metadata": {},
   "source": [
    "1 and 2 는 2, 2 and 3은 3, 3 and 4 는 4 가 출력된다."
   ]
  },
  {
   "cell_type": "code",
   "execution_count": 2,
   "metadata": {
    "collapsed": false
   },
   "outputs": [
    {
     "data": {
      "text/plain": [
       "1"
      ]
     },
     "execution_count": 2,
     "metadata": {},
     "output_type": "execute_result"
    }
   ],
   "source": [
    "1 or 2 or 3 or 4"
   ]
  },
  {
   "cell_type": "markdown",
   "metadata": {},
   "source": [
    "1 or 2 의 경우 앞이 true 이므로 뒤의 값은 평가하지 않고 다음 과정으로 넘어간다 따라서 계속해 1 or 3, 1 or 4의 평가식으로 바뀌게 되어 1이 출력되게 된다."
   ]
  },
  {
   "cell_type": "code",
   "execution_count": 3,
   "metadata": {
    "collapsed": false
   },
   "outputs": [
    {
     "data": {
      "text/plain": [
       "2"
      ]
     },
     "execution_count": 3,
     "metadata": {},
     "output_type": "execute_result"
    }
   ],
   "source": [
    "1 and 2 or 3 and 4"
   ]
  },
  {
   "cell_type": "markdown",
   "metadata": {},
   "source": [
    "1 and 2 는 2가 되는데 or 연산에서 앞의 값이 참일 경우 뒤의 연산식은 평가하지 않고 끝나기 때문에 2가 출력된다."
   ]
  },
  {
   "cell_type": "code",
   "execution_count": 4,
   "metadata": {
    "collapsed": false
   },
   "outputs": [
    {
     "data": {
      "text/plain": [
       "2"
      ]
     },
     "execution_count": 4,
     "metadata": {},
     "output_type": "execute_result"
    }
   ],
   "source": [
    "(1 and 2) or (3 and 4)"
   ]
  },
  {
   "cell_type": "markdown",
   "metadata": {},
   "source": [
    "위와 마찬가지로 (1 and 2)는 참이 되어 뒤의 평가식에 어떤 결과가 나오던지 or 연산자는 신경쓰지 않고 앞의 1 and 2의 결과인 2를 출력하게 된다."
   ]
  },
  {
   "cell_type": "code",
   "execution_count": 5,
   "metadata": {
    "collapsed": false
   },
   "outputs": [
    {
     "data": {
      "text/plain": [
       "1"
      ]
     },
     "execution_count": 5,
     "metadata": {},
     "output_type": "execute_result"
    }
   ],
   "source": [
    "1 or 2 and 3 or 4"
   ]
  },
  {
   "cell_type": "markdown",
   "metadata": {},
   "source": [
    "1 or 2 는 true가 되고 and 의 경우 앞 뒤 모두 평가를 하기 때문에 3 or 4 역시 true가 된다. 따라서 true and true 가 되어 true 값인 1이 출력된다.  "
   ]
  },
  {
   "cell_type": "code",
   "execution_count": 6,
   "metadata": {
    "collapsed": false
   },
   "outputs": [
    {
     "data": {
      "text/plain": [
       "3"
      ]
     },
     "execution_count": 6,
     "metadata": {},
     "output_type": "execute_result"
    }
   ],
   "source": [
    "(1 or 2) and (3 or 4)"
   ]
  },
  {
   "cell_type": "markdown",
   "metadata": {},
   "source": [
    "(1 or 2) 는 true, (3 or 4)는 3이 true 이므로 3이 되어 1 and 3이 된다 따라서 3이 출력된다."
   ]
  },
  {
   "cell_type": "markdown",
   "metadata": {},
   "source": [
    "2 : 키보드로 정수값을 입력 받고 그 값이 양수인지 음수인지를 비트 연산자를 이용하여 판단하는 프로그램을 작성하시오."
   ]
  },
  {
   "cell_type": "code",
   "execution_count": 3,
   "metadata": {
    "collapsed": false
   },
   "outputs": [
    {
     "name": "stdout",
     "output_type": "stream",
     "text": [
      "50\n",
      "plus\n"
     ]
    }
   ],
   "source": [
    "a = input()\n",
    "if a == 0: #0일 경우는 부호가 없으므로 따로 표시\n",
    "    print(\"zero\")\n",
    "elif a & (1 << a.bit_length()): \n",
    "    print(\"minus\")\n",
    "else:\n",
    "    print(\"plus\")\n",
    "#양수의 경우 제일 앞자리 비트가 0이므로 1을 비트의 길이만큼 왼쪽으로 옮긴후 and 연산을 하면 0이 되고 음수의 경우는 true가 된다."
   ]
  },
  {
   "cell_type": "markdown",
   "metadata": {},
   "source": [
    "3 : 경로에 해당하는 문자열 1개를 입력 받아 그 안에 디렉토리 경로명과 파일명을 분리하여 리스트로 반환하는 함수 div_path(s)를 작성하시오."
   ]
  },
  {
   "cell_type": "code",
   "execution_count": 1,
   "metadata": {
    "collapsed": false
   },
   "outputs": [
    {
     "name": "stdout",
     "output_type": "stream",
     "text": [
      "/usr/local/bin/python\n",
      "['/usr/local/bin', 'python']\n"
     ]
    }
   ],
   "source": [
    "str = raw_input()\n",
    "\n",
    "def div_path(s):\n",
    "    r = s.split('/') # / 문자를 기준으로 단어를 분리\n",
    "    r = r[1:] #위의 경우로 분리할 경우 \" \" 이 리스트에 생기므로 슬라이싱을 이용해 버림\n",
    "    for x in range(len(r) - 1): # 빼낸 문자를 파일이름을 제외한 곳에만 다시 붙임\n",
    "        r[x] = '/' + r[x]\n",
    "    for x in range(1,len(r) - 1): #리스트에 따로 저장되있는 경로명들을 이어붙임\n",
    "        r[0] = r[0] + r[x]\n",
    "    r = r[0:1] + r[:len(r) - 2:-1] #위의 결과에서 저장된 경로명과 피일명 이외에 저장되 있는 것들을 버리기 위해 슬라이싱한뒤 다시 붙임\n",
    "    return r\n",
    "\n",
    "print div_path(str)"
   ]
  },
  {
   "cell_type": "markdown",
   "metadata": {},
   "source": [
    "4 : 두 개의 리스트를 인자로 받아서 그 두 개의 리스트에 대한 '합집합'을 반환하는 함수 list_union(lista, listb)를 작성하시오."
   ]
  },
  {
   "cell_type": "code",
   "execution_count": 3,
   "metadata": {
    "collapsed": false
   },
   "outputs": [
    {
     "name": "stdout",
     "output_type": "stream",
     "text": [
      "집합을 입력하세요(원소들은 콤마로 구분 합니다) : -7,-5,0,3,5\n",
      "집합을 입력하세요(원소들은 콤마로 구분 합니다) : 5,3,8,-4,-5\n",
      "[-7, -5, -4, 0, 3, 5, 8]\n"
     ]
    }
   ],
   "source": [
    "def list_input(l): #문자열로 받은 뒤 정수형 리스트로 바꿔주는 함수\n",
    "    l =  l.split(\",\") # \" , \" 를 이용해서 숫자 구분\n",
    "    for x in range(len(l)):\n",
    "        l[x] = int(l[x]) #문자를 정수형으로 변환\n",
    "    return l\n",
    "\n",
    "def list_union(lista, listb): #합집합을 반환하는 함수\n",
    "    u = lista + listb #두 집합을 중복에 상관없이 합친다\n",
    "    for x in u: # 합친 리스트의 각각의 값을 x에 넣는다\n",
    "        if u.count(x) == 2: #count 메소드로 중복이 있는지 찾는다 2일 경우 중복이다\n",
    "            u.remove(x) #중복일 경우 삭제하게 되고 위의 반복문에서 다시 들어가도 1개만 있으므로 남은 한개는 삭제되지 않는다\n",
    "    u.sort() # 순차정렬 메소드\n",
    "    return u\n",
    "    \n",
    "list1 = raw_input(u\"집합을 입력하세요(원소들은 콤마로 구분 합니다) : \") #문자열 입력\n",
    "list2 = raw_input(u\"집합을 입력하세요(원소들은 콤마로 구분 합니다) : \") #문자열 입력\n",
    "\n",
    "list1 = list_input(list1) #리스트로 변환\n",
    "list2 = list_input(list2) #리스트로 변환\n",
    "\n",
    "print list_union(list1, list2) #합집합 출력\n",
    "    \n",
    "    "
   ]
  },
  {
   "cell_type": "markdown",
   "metadata": {},
   "source": [
    "프로젝트 오일러 문제 4 : 세 자리 수를 곱해 만들 수 있는 가장 큰 대칭수"
   ]
  },
  {
   "cell_type": "code",
   "execution_count": 58,
   "metadata": {
    "collapsed": false
   },
   "outputs": [
    {
     "name": "stdout",
     "output_type": "stream",
     "text": [
      "906609\n"
     ]
    }
   ],
   "source": [
    "result = 0\n",
    "for x in range(100, 1000):\n",
    "    for y in range(100, 1000):\n",
    "        t = str(x * y) #문자로 변환\n",
    "        if t[0:3] == t[:2:-1]: #슬라이싱을 이용해서 앞의 3글자 뒤의 3글자 비교\n",
    "            if (x * y) > result: #대칭수 들을 비교해서 이전의 대칭수보다 크면 저장 아니면 다음 연산\n",
    "                result = x * y \n",
    "print result"
   ]
  },
  {
   "cell_type": "markdown",
   "metadata": {
    "collapsed": true
   },
   "source": [
    "프로젝트 오일러 문제 5 :  1 ~ 20 사이의 어떤 수로도 나누어 떨어지는 가장 작은 수"
   ]
  },
  {
   "cell_type": "code",
   "execution_count": 2,
   "metadata": {
    "collapsed": false,
    "scrolled": false
   },
   "outputs": [
    {
     "name": "stdout",
     "output_type": "stream",
     "text": [
      "232792560\n"
     ]
    }
   ],
   "source": [
    "f = 2520\n",
    "\n",
    "while True:\n",
    "    f += 1\n",
    "    if f % 19:\n",
    "        continue\n",
    "    if f % 18:\n",
    "        continue\n",
    "    if f % 17:\n",
    "        continue\n",
    "    if f % 16:\n",
    "        continue\n",
    "    if f % 15:\n",
    "        continue\n",
    "    if f % 14:\n",
    "        continue\n",
    "    if f % 13:\n",
    "        continue\n",
    "    if f % 12:\n",
    "        continue\n",
    "    if f % 11:\n",
    "        continue\n",
    "    if f % 9:\n",
    "        continue\n",
    "    if f % 8:\n",
    "        continue\n",
    "    if f % 7:\n",
    "        continue\n",
    "    if f % 6:\n",
    "        continue\n",
    "    if f % 3:\n",
    "        continue\n",
    "    break\n",
    "\n",
    "print f"
   ]
  },
  {
   "cell_type": "markdown",
   "metadata": {},
   "source": [
    "프로젝트 오일러 문제 6 : 1부터 100까지 자연수에 대해 \"합의 제곱\"과 \"제곱의 합\"의 차이"
   ]
  },
  {
   "cell_type": "code",
   "execution_count": 1,
   "metadata": {
    "collapsed": false
   },
   "outputs": [
    {
     "name": "stdout",
     "output_type": "stream",
     "text": [
      "25164150\n"
     ]
    }
   ],
   "source": [
    "sum_Sum = 0 # 합의 제곱\n",
    "sum_Sqr = 0 # 제곱의 합\n",
    "\n",
    "for x in range(1, 101):\n",
    "    sum_Sqr += pow(x, 2)\n",
    "    \n",
    "for y in range(1, 101):\n",
    "    sum_Sum += y\n",
    "\n",
    "sum_Sum = pow(sum_Sum, 2)\n",
    "print sum_Sum - sum_Sqr"
   ]
  },
  {
   "cell_type": "markdown",
   "metadata": {},
   "source": [
    "[Incremental Project] 웹 URL로 지정된 웹페이지를 문자열로 가져와 1) 모든 HTML 태그를 제외한 순수 텍스트 문자열만을 걸러내고, 2) 그 순수 텍스트 문자열 안에 존재하는 단어가 총 몇개인지 출력하는 프로그램을 작성하시오."
   ]
  },
  {
   "cell_type": "code",
   "execution_count": 3,
   "metadata": {
    "collapsed": false,
    "scrolled": false
   },
   "outputs": [],
   "source": [
    "import urllib2\n",
    "source = urllib2.urlopen(\"http://cse.kut.ac.kr/\").read()\n",
    "\n",
    "\n",
    "    \n",
    "    "
   ]
  },
  {
   "cell_type": "markdown",
   "metadata": {
    "collapsed": true
   },
   "source": [
    "Incremental Project는 제가 풀어 보려 노력했지만 결국은 못풀었습니다."
   ]
  }
 ],
 "metadata": {
  "kernelspec": {
   "display_name": "Python 2",
   "language": "python",
   "name": "python2"
  },
  "language_info": {
   "codemirror_mode": {
    "name": "ipython",
    "version": 2
   },
   "file_extension": ".py",
   "mimetype": "text/x-python",
   "name": "python",
   "nbconvert_exporter": "python",
   "pygments_lexer": "ipython2",
   "version": "2.7.9"
  }
 },
 "nbformat": 4,
 "nbformat_minor": 0
}
