{
 "cells": [
  {
   "cell_type": "markdown",
   "metadata": {},
   "source": [
    "#Assignment4"
   ]
  },
  {
   "cell_type": "markdown",
   "metadata": {},
   "source": [
    "[1번 문제]"
   ]
  },
  {
   "cell_type": "markdown",
   "metadata": {},
   "source": [
    " - 1) "
   ]
  },
  {
   "cell_type": "code",
   "execution_count": 12,
   "metadata": {
    "collapsed": false
   },
   "outputs": [
    {
     "name": "stdout",
     "output_type": "stream",
     "text": [
      "cat dog\n",
      "dog pig\n",
      "ham bird\n",
      "pig ham\n",
      "\n"
     ]
    }
   ],
   "source": [
    "f = open('s.txt')\n",
    "\n",
    "l = []\n",
    "for line in f:\n",
    "    l.append(line)\n",
    "    \n",
    "f.close()\n",
    "l.sort()\n",
    "\n",
    "f = open('s1.txt', 'w')\n",
    "f.writelines(l)\n",
    "f.close()\n",
    "\n",
    "f = file('s1.txt')\n",
    "s = f.read()\n",
    "print s"
   ]
  },
  {
   "cell_type": "markdown",
   "metadata": {},
   "source": [
    " - 2) "
   ]
  },
  {
   "cell_type": "code",
   "execution_count": 6,
   "metadata": {
    "collapsed": false,
    "scrolled": true
   },
   "outputs": [
    {
     "name": "stdout",
     "output_type": "stream",
     "text": [
      "ham bird\n",
      "cat dog\n",
      "pig ham\n",
      "dog pig\n",
      "\n"
     ]
    }
   ],
   "source": [
    "def cmp_val(a1, a2): \n",
    "    return cmp(a1[1], a2[1])\n",
    "\n",
    "\n",
    "f = open('s.txt')\n",
    "\n",
    "l = []\n",
    "for line in f:\n",
    "    l.append(line.split())\n",
    "\n",
    "l.sort(cmp_val)\n",
    "\n",
    "for i in range(0,len(l)):\n",
    "    l[i] = l[i][0] + \" \" + l[i][1] + \"\\n\"\n",
    "\n",
    "f = open('s2.txt', 'w')\n",
    "f.writelines(l)\n",
    "f.close()\n",
    "\n",
    "f = file('s2.txt')\n",
    "s = f.read()\n",
    "print s\n"
   ]
  },
  {
   "cell_type": "markdown",
   "metadata": {},
   "source": [
    " - 3)"
   ]
  },
  {
   "cell_type": "code",
   "execution_count": 13,
   "metadata": {
    "collapsed": false
   },
   "outputs": [
    {
     "name": "stdout",
     "output_type": "stream",
     "text": [
      "pig ham cat\n",
      "dog ham bird\n",
      "dog pig\n",
      "\n"
     ]
    }
   ],
   "source": [
    "f = open('s.txt')\n",
    "\n",
    "l = \"\"\n",
    "\n",
    "for line in f:\n",
    "    l += line\n",
    "    \n",
    "l = l.replace(\"\\n\", \" \")\n",
    "\n",
    "l = l.split()\n",
    "\n",
    "l[0] = l[0] + \" \" +l[1] + \" \" + l[2] + \"\\n\"\n",
    "l[1] = l[3] + \" \" +l[4] + \" \" + l[5] + \"\\n\"\n",
    "l[2] = l[6] + \" \" +l[7] + \"\\n\"\n",
    "\n",
    "f = open('s3.txt', 'w')\n",
    "f.writelines(l[0])\n",
    "f.writelines(l[1])\n",
    "f.writelines(l[2])\n",
    "f.close()\n",
    "\n",
    "f = file('s3.txt')\n",
    "s = f.read()\n",
    "print s"
   ]
  },
  {
   "cell_type": "markdown",
   "metadata": {},
   "source": [
    "[2번 문제]"
   ]
  },
  {
   "cell_type": "markdown",
   "metadata": {},
   "source": [
    "다음과 같은 조건들을 참고하여 회원 가입 및 로그인 프로그램을 작성하시오."
   ]
  },
  {
   "cell_type": "markdown",
   "metadata": {},
   "source": [
    "1) 프로그램 시작 후 다음과 같은 메시지가 출력되어 1, 2, 3 중 하나의 값을 입력 받도록 한다.\n",
    "\n",
    "Welcome to Our Service\n",
    "\n",
    "1. Sign Up\n",
    "2. Sign In\n",
    "3. Quit"
   ]
  },
  {
   "cell_type": "markdown",
   "metadata": {},
   "source": [
    "2) 1을 선택하면 ID, Password, Name, School의 4가지 정보를 입력받아 파일에 저장하는 프로그램을 작성한다.\n",
    "\n",
    "2-1) 입력된 내용은 access.txt 라는 이름의 텍스트 파일 내에 저장된다.\n",
    "\n",
    "2-2) access.txt 파일의 각 라인에는 가입된 회원 각각의 정보가 \"[id]: [password], [name], [school]\" 형태로 저장된다.\n",
    "\n",
    "2-3) 즉, 가입 회원이 10명이면 access.txt 파일 내에 라인 수도 정확히 10개이다.\n",
    "\n",
    "2-4) 암호화 방식은 sha 모듈을 활용한다. sha 모듈 활용 방법은 본 문제의 마지막에 제시된 sha 활용 예를 참고한다.\n",
    "즉, access.txt 파일 내에 password 정보는 암호화 되어 저장되어야 한다.\n",
    "\n",
    "2-5) 회원 정보를 입력 받을 때 id를 입력 받은 직후 access.txt를 확인하여 이미 존재하는 id가 입력되었다면 다음 메시지를 출력하고 id 정보를 다시 입력받는다.\n",
    "Sorry, the entered ID is already used.\n",
    "\n",
    "3) 2를 선택하면 ID, Password의 2가지 정보를 입력받는 프로그램을 작성한다.\n",
    "\n",
    "3-1) 입력된 ID 정보가 access.txt에 존재하지 않으면 다음과 같은 메시지를 출력하고 다시 입력받는다.\n",
    "Sorry, you are not a registered member.\n",
    "\n",
    "3-2) 입력된 ID가 올바르게 존재하지만 Password 정보가 access.txt 파일에 있는 정보와 불일치하면 다음과 같은 메시지를 출력하고 Password를 다시 입력받는다.\n",
    "Sorry, the entered password is not correct.\n",
    "이 때에도 사용자가 입력한 Password 정보와 함께 sha 모듈이 활용되어야 한다.\n",
    "\n",
    "3-3) 입력된 ID와 Password가 모두 올바르면 다음과 같은 메시지를 출력한다.\n",
    "Hello [name]!\n",
    "위 [name]에는 access.txt에 기록되어 있는 name 정보를 출력한다.\n",
    "\n",
    "4) 3을 선택하면 프로그램이 끝난다.\n",
    "[참고] sha 모듈 활용 예"
   ]
  },
  {
   "cell_type": "code",
   "execution_count": null,
   "metadata": {
    "collapsed": false,
    "scrolled": false
   },
   "outputs": [
    {
     "name": "stdout",
     "output_type": "stream",
     "text": [
      "Welcome to Our Service\n",
      "1. Sign Up\n",
      "2. Sign In\n",
      "3. Quit\n"
     ]
    }
   ],
   "source": [
    "import sha\n",
    "\n",
    "def SignUp():\n",
    "    f = open('access.txt', 'a+')\n",
    "    line = f.readline()\n",
    "    print 'ID : '\n",
    "    id_input = raw_input()\n",
    "    \n",
    "    while line: #라인마다 id가 있는지 비교\n",
    "        id_ex = line[:line.find(':')] #라인을 슬라이싱하여 아이디를 뽑아냄\n",
    "        if(id_input == id_ex): #입력 문자열과 아이디가 같다면\n",
    "            print 'Sorry, the entered ID is already used.'\n",
    "            return 0 #함수 종료\n",
    "        line = f.readline() #위의 조건문에서 걸리지 않는다면 다음 회원정보 읽어들임\n",
    "        \n",
    "    #아래에서부턴 회원 정보 입력 과정\n",
    "    id_input = id_input + ': '\n",
    "    print 'Password : '\n",
    "    pa = raw_input()\n",
    "    pa = sha.new(pa).hexdigest()\n",
    "    pa += ', '\n",
    "    print 'Name : '\n",
    "    name = raw_input()\n",
    "    name += ', '\n",
    "    print 'School : '\n",
    "    school = raw_input()\n",
    "    school += '\\n'\n",
    "    info = id_input + pa + name + school\n",
    "    \n",
    "    f = open('access.txt', 'a+')\n",
    "    f.write(info)\n",
    "    f.close\n",
    "    \n",
    "def SignIn():\n",
    "    f = open('access.txt')\n",
    "    line = f.readline()\n",
    "    com_info = '' #원하는 회원정보를 넣어두기 위한 문자열\n",
    "    print 'ID : '\n",
    "    id_input = raw_input()\n",
    "    \n",
    "    while line: #라인마다 id가 있는지 비교\n",
    "        id_ex = line[:line.find(':')] #라인을 슬라이싱하여 아이디를 뽑아냄\n",
    "        if(id_input == id_ex):\n",
    "            com_info = line #아이디가 같을 때 관련 정보를 가져오기 위한 문자열\n",
    "            break #같은 아이디가 있다면 더이상 탐색을 하지 않아도 되므로 종료\n",
    "        line = f.readline() #위의 조건문에서 걸리지 않는다면 다음 회원정보 읽어들임\n",
    "        \n",
    "    if(com_info == ''): #입력된 아이디가 없어서 위의 반복문에서 com_info에 아무것도 들어가지 않을 경우\n",
    "        print 'Sorry, you are not a registered member.'\n",
    "        return 0 #함수 종료\n",
    "    \n",
    "    print 'Password : '\n",
    "    pa = raw_input()\n",
    "    pa = sha.new(pa).hexdigest()\n",
    "    \n",
    "    pa_ex = com_info[com_info.find(\" \")+1:com_info.find(\",\")] #암호화된 비밀번호를 슬라이싱을 통해 추출\n",
    "    \n",
    "    if(pa_ex != pa): # 비밀번호 확인\n",
    "        print 'Sorry, the entered password is not correct.'\n",
    "        return 0 #함수 종료\n",
    "    \n",
    "    #로그인이 된 경우 출력\n",
    "    print 'Hello' , com_info[com_info.find(\",\")+2:com_info.find(\",\",com_info.find(\",\")+2)], '!'\n",
    "    f.close\n",
    "    \n",
    "i = 1\n",
    "while(i):\n",
    "    print 'Welcome to Our Service'\n",
    "    print '1. Sign Up'\n",
    "    print '2. Sign In'\n",
    "    print '3. Quit'\n",
    "    i = input()\n",
    "    if(i == 1):\n",
    "        SignUp()\n",
    "    elif(i == 2):\n",
    "        SignIn()\n",
    "    elif(i == 3):\n",
    "        break"
   ]
  },
  {
   "cell_type": "markdown",
   "metadata": {},
   "source": [
    "[3번 문제]\n",
    "\n",
    "range() 함수와 유사한 frange() 함수를 다음 조건을 참고하여 만드시오.\n",
    "\n",
    "1) frange()의 인자 구성은 다음과 같이 range와 동일하지만 각 인수들은 음수를 받지 않는다고 가정한다.\n",
    "\n",
    "2) frange() 함수의 인자에 대한 기본 시작(start) 값은 0.0이고, 기본 단계(step) 값은 0.1이다."
   ]
  },
  {
   "cell_type": "code",
   "execution_count": 15,
   "metadata": {
    "collapsed": false
   },
   "outputs": [
    {
     "name": "stdout",
     "output_type": "stream",
     "text": [
      "[0.0, 0.1, 0.2, 0.3, 0.4, 0.5, 0.6, 0.7, 0.8, 0.9, 1.0, 1.1, 1.2, 1.3, 1.4, 1.5, 1.6, 1.7, 1.8, 1.9, 2.0, 2.1, 2.2, 2.3, 2.4, 2.5, 2.6, 2.7, 2.8, 2.9]\n",
      "[1.0, 1.1, 1.2, 1.3, 1.4, 1.5, 1.6, 1.7, 1.8, 1.9, 2.0, 2.1, 2.2, 2.3, 2.4]\n",
      "[1.0, 1.6, 2.2]\n"
     ]
    }
   ],
   "source": [
    "def frange(stop, start = 0.0 , step = 0.1):\n",
    "    result = [] #결과를 받아 넘기기 위한 리스트\n",
    "    if(start == 0.0): #시작이 0.0 일 경우 위의 함수 인자들을 바로 사용\n",
    "        while (stop > start):\n",
    "            result.append(round(start,2))\n",
    "            start += round(step, 2)\n",
    "        return result\n",
    "    \n",
    "    #함수 인자로 stop과 start 값이 순서가 바뀌어 있으므로 여기서 스위칭\n",
    "    else: \n",
    "        stop, start = start, stop #입력 받은 인자를 변수 이름과 맞춰준다.\n",
    "        while (stop > start):\n",
    "            result.append(round(start,2)) \n",
    "            start += round(step, 2)\n",
    "        return result\n",
    "        \n",
    "print frange(3.0)\n",
    "print frange(1.0, 2.5)\n",
    "print frange(1.0, 2.5, 0.6)"
   ]
  },
  {
   "cell_type": "markdown",
   "metadata": {
    "collapsed": true
   },
   "source": [
    "[4번 문제]\n",
    "\n",
    "가변인수를 받는 함수 sum()을 다음과 같은 조건을 참고하여 구현하시오\n",
    "\n",
    "sum() 사용 예\n",
    "\n",
    "\n",
    "sum()\n",
    "\n",
    "0\n",
    "\n",
    "sum(1, 2)\n",
    "\n",
    "3\n",
    "\n",
    "sum(1, 2, 3, 4, 5)\n",
    "\n",
    "15\n",
    "\n",
    "sum(1, 5, 7, 2, -10)\n",
    "\n",
    "5"
   ]
  },
  {
   "cell_type": "code",
   "execution_count": 2,
   "metadata": {
    "collapsed": false
   },
   "outputs": [
    {
     "name": "stdout",
     "output_type": "stream",
     "text": [
      "0\n",
      "3\n",
      "15\n",
      "5\n"
     ]
    }
   ],
   "source": [
    "def sum(a = 0, b = 0, *arg):\n",
    "    if(len(arg) == 0):\n",
    "        return a + b\n",
    "    else:\n",
    "        sum = a + b\n",
    "        for c in arg:\n",
    "            sum += c\n",
    "        return sum\n",
    "            \n",
    "print sum()\n",
    "print sum(1,2)\n",
    "print sum(1,2,3,4,5)\n",
    "print sum(1,5,7,2,-10)\n",
    "    "
   ]
  },
  {
   "cell_type": "markdown",
   "metadata": {},
   "source": [
    "[5번 문제]\n",
    "\n",
    "여러 단어로 이루어진 문자열을 입력받아 각 단어의 첫글자로 이루어진 단어를 대문자로 출력하는 myinitial() 함수를 다음 조건을 참고하여 작성하시오.\n",
    "\n",
    "1) 다음에 제시되는 함수들을 모두 이용해야 한다.\n",
    "\n",
    "split\n",
    "\n",
    "map\n",
    "\n",
    "join\n",
    "\n",
    "2) myinitial() 함수 사용 예\n",
    "\n",
    "myinitial(\"as soon as possible\")\n",
    "\n",
    "ASAP"
   ]
  },
  {
   "cell_type": "code",
   "execution_count": 18,
   "metadata": {
    "collapsed": false
   },
   "outputs": [
    {
     "name": "stdout",
     "output_type": "stream",
     "text": [
      "ASAP\n",
      "AF\n"
     ]
    }
   ],
   "source": [
    "def myinitial(sentence):\n",
    "    words = sentence.split()\n",
    "    words = list(map(fun_title, words))\n",
    "    for x in range(0, len(words)):\n",
    "        word = words[x]\n",
    "        word = word[0:1]\n",
    "        words[x] = word\n",
    "    return ''.join(words)\n",
    "\n",
    "def fun_title(a):\n",
    "    return a.title()\n",
    "\n",
    "print myinitial(\"as soon as possible\")\n",
    "print myinitial(\"amor fati\")"
   ]
  },
  {
   "cell_type": "markdown",
   "metadata": {},
   "source": [
    "[6번 문제]\n",
    "\n",
    "음이 아닌 정수 n를 입력받으면 n! (factorial)을 계산하는 myfact() 함수를 재귀적 함수로 구현하시오.\n",
    "\n",
    "[옵션] 참을 수 있는 정도 만큼의 수행시간을 직접 기다려보면서 n을 늘려보도록 합시다."
   ]
  },
  {
   "cell_type": "code",
   "execution_count": 24,
   "metadata": {
    "collapsed": false
   },
   "outputs": [
    {
     "name": "stdout",
     "output_type": "stream",
     "text": [
      "531446595523432843309595655631676286918046700071120401951121139499225260808779708253903734438579590789001567153256499026974532145208122087873643313306238289189070623658269698543016547402779591888649821568947095967496820022015143814991298321623724586736242929731448582724523878255343501096687265376303239361025918751770644401625269318998349491371513845669986016371039203358546775743309263112257802733644515736161158277200593641584468163391031508709255925531720432417399397442586490351189223051857477322232784555620263962080211294980593689348354074642641419065770259997965278766562695474414784029601731032192887853279697168309510321834158868839832160194459232470535773935552828427939438139920174853066256157337475265221413689055659821514620159138737381903471930839173567784984608652338571500836858629834993489420696073770679958505677500706543075458196223232993099866824056061656530375249557266073544002062832304070020854394095599009731571825503710515946245616086467874985327113506815553912665121909211818895457574478120861263240544796953288512737175339519420428515653132585494951810164111095791356148825933936848475005597564646811601043886740810111363317973619287471225594514719384113094057275533464876718487027885994428192751270761270328807798198078494715115050102309625310737791820125680444445664535449858199311172122931539597027016399726415572094543616377441753276166801327868248001066353613627657855132931794234372500578178697171717501684483683436319852820597930849359309611520290156953864688369716277148702264642133369599310927408515520524174389991919208129940512190542284195854452891769732343195225930966414266576044452215306379724595581360970088058225508356818341607443242137454667120300909936562310074286053489832971224543966796565406830553329005029707988433862113152344039405042073966044969105238018192931865625944812435825950091974172074435157791358126665952051058450240785300288120531940144405333610961027397547478369603286969963354599551697570083604071140919952955293539053017619227758643093192832276743328192515465444835252850336693050127801446586017331993048426463712130494517101027942772280353910146890682015563832787826393249564472331961617434770469083563423242370503470449067872272145399337603689464181492554975227074272323172834806543155200000000000000000000000000000000000000000000000000000000000000000000000000000000000000000000000000000000000000000000000000000000000000000000000000000000000000000000000000000000000000000000000000000000000000000000000000000000000000000000000000\n"
     ]
    }
   ],
   "source": [
    "def myfact(a):\n",
    "    if(a > 1):\n",
    "        return a * myfact(a-1)\n",
    "    else: # a가 0이 될 경우 곱하기의 특성상 1을 반환해준다\n",
    "        return 1\n",
    "\n",
    "print myfact(976)\n",
    "# 977 부터는 런타임 에러가 발생합니다 실행속도는 긴 시간이 걸리지 않습니다."
   ]
  },
  {
   "cell_type": "markdown",
   "metadata": {
    "collapsed": true
   },
   "source": [
    "[7번 문제]\n",
    "\n",
    "(서술형) import string 과 from string import * 의 차이점을 설명하시오."
   ]
  },
  {
   "cell_type": "markdown",
   "metadata": {
    "collapsed": true
   },
   "source": [
    "import의 경우 모듈의 참조를 생성하여 모듈의 내용을 읽어들일때는 참조를 통해서 이용해야 하지만 from import의 경우 참조를 생성하지 않지만 해당 모듈의 내용을 참조 없이 바로 쓰는것이 가능하다. "
   ]
  },
  {
   "cell_type": "markdown",
   "metadata": {},
   "source": [
    "[8번 문제]\n",
    "\n",
    "프로젝트 오일러 문제 10"
   ]
  },
  {
   "cell_type": "code",
   "execution_count": 2,
   "metadata": {
    "collapsed": false
   },
   "outputs": [
    {
     "name": "stdout",
     "output_type": "stream",
     "text": [
      "142913828922\n"
     ]
    }
   ],
   "source": [
    "def isPrime(n):\n",
    "    import math\n",
    "    if (n%2 == 0): #짝수이면 바로 종료\n",
    "        return False\n",
    "    \n",
    "    #홀수들로 나누어 소수 판단 range함수에 스텝을 2씩 주어 나누는 수의 갯수를 줄여줌\n",
    "    for x in range(3, int(math.sqrt(n))+1 ,2):\n",
    "        if(n%x == 0):\n",
    "            return False\n",
    "    \n",
    "    return True\n",
    "    \n",
    "num=8 #7 까지는 쉽게 소수 파악가능하므로 8부터 시작\n",
    "sumOfPrime=17 #7까지의 소수를 더한값 부터 시작\n",
    "while True:\n",
    "    if isPrime(num):\n",
    "        sumOfPrime+=num\n",
    "    num+=1\n",
    "    \n",
    "    if num==2000000:\n",
    "        break\n",
    "\n",
    "print (sumOfPrime)"
   ]
  },
  {
   "cell_type": "markdown",
   "metadata": {},
   "source": [
    "[9번 문제]\n",
    "\n",
    "프로젝트 오일러 문제 11"
   ]
  },
  {
   "cell_type": "code",
   "execution_count": 13,
   "metadata": {
    "collapsed": false
   },
   "outputs": [
    {
     "name": "stdout",
     "output_type": "stream",
     "text": [
      "70600674\n"
     ]
    }
   ],
   "source": [
    "#가로 세로 대각선 4자리를 곱해서 최대값 구하기\n",
    "s = '''08 02 22 97 38 15 00 40 00 75 04 05 07 78 52 12 50 77 91 08\n",
    "49 49 99 40 17 81 18 57 60 87 17 40 98 43 69 48 04 56 62 00\n",
    "81 49 31 73 55 79 14 29 93 71 40 67 53 88 30 03 49 13 36 65\n",
    "52 70 95 23 04 60 11 42 69 24 68 56 01 32 56 71 37 02 36 91\n",
    "22 31 16 71 51 67 63 89 41 92 36 54 22 40 40 28 66 33 13 80\n",
    "24 47 32 60 99 03 45 02 44 75 33 53 78 36 84 20 35 17 12 50\n",
    "32 98 81 28 64 23 67 10 26 38 40 67 59 54 70 66 18 38 64 70\n",
    "67 26 20 68 02 62 12 20 95 63 94 39 63 08 40 91 66 49 94 21\n",
    "24 55 58 05 66 73 99 26 97 17 78 78 96 83 14 88 34 89 63 72\n",
    "21 36 23 09 75 00 76 44 20 45 35 14 00 61 33 97 34 31 33 95\n",
    "78 17 53 28 22 75 31 67 15 94 03 80 04 62 16 14 09 53 56 92\n",
    "16 39 05 42 96 35 31 47 55 58 88 24 00 17 54 24 36 29 85 57\n",
    "86 56 00 48 35 71 89 07 05 44 44 37 44 60 21 58 51 54 17 58\n",
    "19 80 81 68 05 94 47 69 28 73 92 13 86 52 17 77 04 89 55 40\n",
    "04 52 08 83 97 35 99 16 07 97 57 32 16 26 26 79 33 27 98 66\n",
    "88 36 68 87 57 62 20 72 03 46 33 67 46 55 12 32 63 93 53 69\n",
    "04 42 16 73 38 25 39 11 24 94 72 18 08 46 29 32 40 62 76 36\n",
    "20 69 36 41 72 30 23 88 34 62 99 69 82 67 59 85 74 04 36 16\n",
    "20 73 35 29 78 31 90 01 74 31 49 71 48 86 81 16 23 57 05 54\n",
    "01 70 54 71 83 51 54 69 16 92 33 48 61 43 52 01 89 19 67 48\n",
    "'''\n",
    "\n",
    "l = s.split()\n",
    "hori_max = 0\n",
    "vert_max = 0\n",
    "diag_max = 0\n",
    "#가로 \n",
    "for x in range(0, 396):\n",
    "    multi = 1\n",
    "    if((x % 20) < 17): #격자에서 마지막 4자리 를 가지는 곳 까지만 연산하기 위한 조건\n",
    "        for y in range(x, x + 4):\n",
    "            if(int(l[y]) == 0): #중간에 숫자가 0인 경우 계산 없이 넘어감\n",
    "                break\n",
    "            else:\n",
    "                multi *= int(l[y])\n",
    "            if(multi > hori_max): #최대값과 비교\n",
    "                hori_max = multi\n",
    "\n",
    "#세로               \n",
    "for x in range(0, 340):\n",
    "    multi = 1\n",
    "    for y in range(0, 4): #세로에 해당되는 규칙에 따라 인덱스 연산하여 검사 및 계산\n",
    "        if(int(l[x+(20*y)]) == 0): #중간에 숫자가 0인 경우 계산 없이 넘어감\n",
    "            break\n",
    "        else:\n",
    "            multi *= int(l[x+(20*y)]) \n",
    "        if(multi > vert_max):\n",
    "            vert_max = multi\n",
    "\n",
    "#대각선, 2방향이 존재 하므로 조건을 바꿔서 계산\n",
    "for x in range(0, 337):\n",
    "    multi = 1\n",
    "    if((x % 20) < 17):\n",
    "        for y in range(0, 4): #대각선(왼쪽위에서 오른쪽 아래)에 해당되는 규칙에 따라 인덱스 연산하여 검사 및 계산\n",
    "            if(int(l[x+(21*y)]) == 0): #중간에 숫자가 0인 경우 계산 없이 넘어감\n",
    "                break\n",
    "            else:\n",
    "                multi *= int(l[x+(21*y)]) \n",
    "            if(multi > diag_max):\n",
    "                diag_max = multi\n",
    "                \n",
    "for x in range(3, 340):\n",
    "    multi = 1\n",
    "    if((x % 20) > 3):\n",
    "        for y in range(0, 4): #대각선(오른쪽 위에서 왼쪽 아래)에 해당되는 규칙에 따라 인덱스 연산하여 검사 및 계산\n",
    "            if(int(l[x+(19*y)]) == 0): #중간에 숫자가 0인 경우 계산 없이 넘어감\n",
    "                break\n",
    "            else:\n",
    "                multi *= int(l[x+(19*y)]) \n",
    "            if(multi > diag_max):\n",
    "                diag_max = multi\n",
    "\n",
    "l = list()\n",
    "l.append(hori_max)\n",
    "l.append(vert_max)\n",
    "l.append(diag_max)\n",
    "    \n",
    "print max(l)"
   ]
  },
  {
   "cell_type": "markdown",
   "metadata": {},
   "source": [
    "[10번 문제]\n",
    "\n",
    "프로젝트 오일러 문제 12"
   ]
  },
  {
   "cell_type": "code",
   "execution_count": 3,
   "metadata": {
    "collapsed": false,
    "scrolled": true
   },
   "outputs": [
    {
     "name": "stdout",
     "output_type": "stream",
     "text": [
      "76576500\n"
     ]
    }
   ],
   "source": [
    "#1 부터 n 까지의 숫자를 더한것이 삼각수 \n",
    "#이 삼각수의 약수가 500개 이상인 최소 삼각수\n",
    "\n",
    "import math\n",
    "\n",
    "def divi(n):\n",
    "    cnt = 0 #약수의 갯수 저장하기 위한 변수\n",
    "    setting = int(math.sqrt(n)) # n의 약수를 더 빠르게 구하기 위한 기준값\n",
    "    for x in range(1, setting+1):\n",
    "        if(n % x == 0): #나누어 질 경우\n",
    "            if(x * x == n): #나누어진 수가 n의 제곱근 일 경우 \n",
    "                cnt += 0.5 #약수에서 중복된 것은 1개만 취급하므로 0.5만 더해준다.\n",
    "            else:\n",
    "                cnt += 1 #나누어졌지만 제곱근이 아니면 1을 더한다.\n",
    "    cnt *= 2 #위의 기준점에서 나온 약수들은 제곱근이 아니면 쌍이 있으므로 2배를 해야 약수의 갯수\n",
    "    return int(cnt) #중간에 double 형 숫자가 더해질 경우 double로 바뀌므로 다시 int로 변환\n",
    "\n",
    "tri_num = 0 #삼각수\n",
    "add = 1 #삼각수에 더할 숫자\n",
    "while True:\n",
    "    tri_num += add \n",
    "    add += 1\n",
    "    if(divi(tri_num) >= 500):\n",
    "        break\n",
    "        \n",
    "print tri_num"
   ]
  },
  {
   "cell_type": "markdown",
   "metadata": {},
   "source": [
    "[11번 문제]\n",
    "\n",
    "프로젝트 오일러 문제 13"
   ]
  },
  {
   "cell_type": "code",
   "execution_count": 5,
   "metadata": {
    "collapsed": false
   },
   "outputs": [
    {
     "name": "stdout",
     "output_type": "stream",
     "text": [
      "5537376230\n"
     ]
    }
   ],
   "source": [
    "#문제에 제시된 50자리 숫자 100개가 너무 많아서 13.txt로 저장해두고 불러와서 사용했습니다.\n",
    "#과제체점에 참고하세요.\n",
    "\n",
    "f = open('13.txt')\n",
    "numlist=list()\n",
    "\n",
    "#파일에 있는 50자리 숫자를 리스트에 옮겨 담기\n",
    "for l in f.readlines():\n",
    "    l=l.rstrip('\\n')#개행문자 제거\n",
    "    numlist.append(int(l))\n",
    "\n",
    "#리스트의 숫자를 모두 더함\n",
    "sumOfNumbers=sum(numlist)\n",
    "\n",
    "#문자열로 바꾸어 앞의 10자리만 출력\n",
    "print(str(sumOfNumbers)[0:10])\n"
   ]
  },
  {
   "cell_type": "markdown",
   "metadata": {},
   "source": [
    "[12번 문제]\n",
    "\n",
    "프로젝트 오일러 문제 14"
   ]
  },
  {
   "cell_type": "code",
   "execution_count": 5,
   "metadata": {
    "collapsed": false
   },
   "outputs": [
    {
     "name": "stdout",
     "output_type": "stream",
     "text": [
      "837799\n"
     ]
    }
   ],
   "source": [
    "def hailstone_Cnt(n):\n",
    "    cnt = 1 #연산 횟수 저장\n",
    "    while True: #무한루프\n",
    "        if(n == 1): #종료조건\n",
    "            return cnt\n",
    "        #계산 조건\n",
    "        if(n%2 == 0): \n",
    "            n /= 2 #연산\n",
    "        else:\n",
    "            n = 3 * n +1 #연산\n",
    "        cnt += 1 #위의 2개 연산중 하나를 하고 연산횟수 증가\n",
    "\n",
    "num = 1000000 #백만 부터 시작\n",
    "max_cnt = 0 #최대 연산 횟수\n",
    "cnt_num = 0 #최대 연산 횟수를 가지는 수\n",
    "while (num > 1): #백만에서 1까지 연산\n",
    "    #연산횟수 계산 및 최대 연산 횟수와 비교\n",
    "    if(hailstone_Cnt(num) > max_cnt):\n",
    "        max_cnt = hailstone_Cnt(num) #최대연산횟수 입력\n",
    "        cnt_num = num #최대 연산 횟수를 가지는 수 입력\n",
    "    num -= 1 #감소\n",
    "    \n",
    "print cnt_num"
   ]
  },
  {
   "cell_type": "markdown",
   "metadata": {},
   "source": [
    "[13번 문제]\n",
    "\n",
    "프로젝트 오일러 문제 15"
   ]
  },
  {
   "cell_type": "code",
   "execution_count": 3,
   "metadata": {
    "collapsed": false
   },
   "outputs": [
    {
     "name": "stdout",
     "output_type": "stream",
     "text": [
      "137846528820\n"
     ]
    }
   ],
   "source": [
    "#가로 세로가 각각 20 이므로 이 20개의 가로와 세로를 어떻게 선택해서 배열하느냐 의 문제 \n",
    "#따라서 경우의 수를 계산하면 된다 \n",
    "def myfact(a):\n",
    "    if(a > 1):\n",
    "        return a * myfact(a-1)\n",
    "    else: # a가 0이 될 경우 곱하기의 특성상 1을 반환해준다\n",
    "        return 1\n",
    "\n",
    "width = 20 #가로\n",
    "height = 20 #세로\n",
    "r = 20 #선택값\n",
    "\n",
    "#n개에서 r개를 중복없이 선택하는 n C r (순열) 공식이용\n",
    "print myfact(width + height)/(myfact(r) * myfact(width + height - r))"
   ]
  },
  {
   "cell_type": "markdown",
   "metadata": {},
   "source": [
    "[14번 문제]\n",
    "\n",
    "이전 Assignment 3의 마지막 문제는 웹 URL로 지정된 웹페이지를 문자열로 가져와 모든 HTML 태그 및 CSS와 Javascript를 제외한 순수 텍스트를 얻어내고 그 안에 존재하는 단어를 추출하여 각 단어들에 대해 출현빈도를 사전형태({'world': 2, 'hello': 1, 'python': 1})로 저장하여 출력하는 것이었다. 이번에는 Assignment 3를 확장하여 다음과 같은 조건을 만족하도록 구현하시오.\n",
    "\n",
    "1) 다음 사이트에서 제시되는 영어 불용어를 참고하여 이전 숙제에서 구성했던 단어 사전에서 영어 불용어들을 모두 제거하는 코드를 추가하시오.\n",
    "\n",
    "http://egloos.zum.com/wyb330/v/3029348\n",
    "\n",
    "영어 불용어: [ 'a', 'and', 'are', 'as', 'at', 'be', 'but', 'by', 'for', 'if', 'in', 'into', 'is', 'it', 'no', 'not', 'of', 'on', 'or', 's', \n",
    "'such', 't', 'that', 'the', 'their', 'then', 'there', 'these', 'they', 'this', 'to', 'was', 'will', 'with']\n",
    "\n",
    "2) 각 URL로 지정된 웹페이지의 HTML 소스를 파일로 저장하시오.\n",
    "\n",
    "URL이 http://URL 이라면 파일명은 URL.html 이다.\n",
    "\n",
    "예: URL이 http://www.cnn.com 이라면 파일명은 www.cnn.com.html 이다.\n",
    "\n",
    "3) 단어의 출현빈도가 담긴 사전 객체를 위 HTML 소스 파일과 동일한 폴더에 파일로 저장하시오.\n",
    "\n",
    "파일입출력 (E-learning 13주차) 마지막에 학습한 pickle 모듈을 활용하시오.\n",
    "\n",
    "URL이 http://URL 이라면 사전 객체를 담고 있는 파일명은 URL.words.frequency 이다.\n",
    "\n",
    "예: URL이 http://www.cnn.com 이라면 파일명은 www.cnn.com.words.frequency 이다.\n",
    "\n",
    "4) 최소 5개 이상의 영어 웹 사이트에 대한 HTML 소스 파일과 단어 출현빈도 파일을 저장하시오.\n",
    "\n",
    "즉, 총 10개의 파일을 동일한 폴더에 생성하시오.\n",
    "\n",
    "[주의] 영어 웹사이트 URL로만 5개 이상\n",
    "\n",
    "5) 위 문제에서 저장한 모든 words.frequency 파일들을 객체로 다시 로드하여 본인이 저장하여 분석한 사이트들에서 가장 많이 출현한 단어 3개를 뽑아 제시하시오.\n",
    "\n",
    "반드시 pickle 모듈로 저장한 5개 이상의 words.frequency를 다시 5개 이상의 사전 객체로 로드 하는 코드가 추가되어야 함"
   ]
  },
  {
   "cell_type": "code",
   "execution_count": 3,
   "metadata": {
    "collapsed": false,
    "scrolled": false
   },
   "outputs": [
    {
     "name": "stdout",
     "output_type": "stream",
     "text": [
      "URL : \n",
      "http://www.ted.com\n",
      "URL : \n",
      "http://www.bbc.co.uk\n",
      "URL : \n",
      "http://www.discovery.com\n",
      "URL : \n",
      "http://www.ebay.com\n",
      "URL : \n",
      "http://www.cnn.com\n",
      "('div', 365)\n",
      "('products', 199)\n",
      "('named', 198)\n"
     ]
    }
   ],
   "source": [
    "# -*- coding: utf-8 -*-\n",
    "import urllib2\n",
    "import string\n",
    "import pickle\n",
    "\n",
    "\n",
    "def cmp_val(a1, a2): #튜플의 원소중 인덱스가 1인 값을 비교하기 위한 함수\n",
    "    return cmp(a1[1], a2[1])\n",
    "\n",
    "eng_list = ['a', 'and', 'are', 'as', 'at', 'be', 'but', 'by', 'for', 'if', 'in', 'into',\n",
    "            'is', 'it', 'no', 'not', 'of', 'on', 'or', 's', 'such', 't', 'that', 'the',\n",
    "            'their', 'then', 'there', 'these', 'they', 'this', 'to', 'was', 'will', 'with']\n",
    "\n",
    "#url을 저장하는 리스트\n",
    "url_list = list()\n",
    "\n",
    "while True:\n",
    "    print 'URL : '\n",
    "    url = raw_input()\n",
    "    url_html = url.replace('http://', '')\n",
    "\n",
    "    source = urllib2.urlopen(url).read()\n",
    "    f = open(url_html+'.html', 'w')\n",
    "    f.writelines(source)\n",
    "    f.close()\n",
    "    for i in range(0, source.count('<!--')):\n",
    "        if source.find(\"<!--\") != -1:\n",
    "            source = source.replace(source[source.find(\"<!--\"):source.find(\"-->\")+3:],\"\")\n",
    "    \n",
    "    for i in range(0,source.count(\"<\")):\n",
    "        if source.find(\"<\") != -1:\n",
    "            source = source.replace(source[source.find(\"<\"):source.find(\">\")+1:],\"\")\n",
    "    \n",
    "    for punc in string.punctuation: # 구두문자를 인자로 반복문 실행\n",
    "        source = source.replace(punc, \"\") #source에서 구두문자를 공백으로 바꾼 것을 다시 저장\n",
    "        \n",
    "    words = source.split() # 공백으로 단어를 나누어 리스트 저장\n",
    "    \n",
    "    #영어 불용자 제거, 불용자는 단어이므로 위의 구두문자와는 다르게 단어를 나눈뒤 삭제\n",
    "    p = 0\n",
    "    while p == 0:\n",
    "        for e in eng_list:\n",
    "            if(e in words): #영어 불용자가 리스트에 있을경우 탐색을 멈춤\n",
    "                break\n",
    "            else: # 영어 불용자가 리스트에 없는 경우 무한 루프 종료\n",
    "                p = 1\n",
    "                continue #리스트에 영어 불용자가 없으므로 아래의 반복문 무시\n",
    "         \n",
    "        #영어 불용자 삭제\n",
    "        for e in eng_list:\n",
    "            if(e in words):\n",
    "                words.remove(e)\n",
    "                \n",
    "    words_dic = {} # 사전으로 담기 위한 변수\n",
    "\n",
    "    for word in words: #단어들을 인자로 반복문 실행\n",
    "        if word not in words_dic.keys(): # words_dic 에 키로 저장된 단어가 없을 경우 \n",
    "            words_dic[word] = words.count(word) # 단어를 키로 단어의 갯수를 값으로 사전에 저장\n",
    "\n",
    "    #pickle 모듈을 이용해서 사전을 파일에 입력해 저장\n",
    "    f = open(url_html+'.words.frequency', 'w')\n",
    "    pickle.dump(words_dic, f)\n",
    "    f.close()\n",
    "    \n",
    "    url_list.append(url_html) #리스트에 url 추가\n",
    "    \n",
    "    #리스트의 url이 5개가 있을때 무한루프를 탈출\n",
    "    if(len(url_list) == 5):\n",
    "        break\n",
    "\n",
    "#출현 빈도를 저장 받을 사전을 생성\n",
    "freq_words = dict()\n",
    "\n",
    "#각 url의  .words.frequency 파일을 불러와 미리 저장된 사전과 불러들인 사전을 비교하여 키값을 조정\n",
    "for u in url_list:\n",
    "    f = open(u+'.words.frequency')\n",
    "    x = pickle.load(f)\n",
    "    #freq_words 에 처음엔 아무것도 없으므로 처음 불러온 사전을 바로 넣는다\n",
    "    if(len(freq_words) == 0):\n",
    "        freq_words = x\n",
    "        continue #아래의 같은 단어 비교는 무시\n",
    "    \n",
    "    #같은 키값을 가지고 있는지 비교\n",
    "    for a in x:\n",
    "        for b in freq_words:\n",
    "            if (a == b): \n",
    "                x[a] += freq_words[b] #같을 경우 값을 더한다. \n",
    "    freq_words.update(x) #그 뒤 저장된 값을 업데이트 한다. x에 더한 이유는 update는 기존값을 덮어 써버리기 때문\n",
    "    f.close()\n",
    "\n",
    "freq_words_list = freq_words.items()\n",
    "freq_words_list.sort(cmp_val, reverse = True)\n",
    " \n",
    "for x in range(0, 3):\n",
    "    print freq_words_list[x]"
   ]
  },
  {
   "cell_type": "markdown",
   "metadata": {
    "collapsed": true
   },
   "source": [
    "간단한 소감이라면 우선 람다 함수라던지 혹은 수업시간에 배웠던 문법들이 생소한게 많아서 아직은 적응이 안되어 있어서 찾아가며 과제를 수행했습니다. 아직도 적응이 잘 안되기는 하지만 이번 기회를 통해서 조금은 익숙해진것 같습니다. 그리고 문제가 신선해서 생각을 많이 하게 된것 같습니다."
   ]
  },
  {
   "cell_type": "code",
   "execution_count": null,
   "metadata": {
    "collapsed": true
   },
   "outputs": [],
   "source": []
  }
 ],
 "metadata": {
  "kernelspec": {
   "display_name": "Python 2",
   "language": "python",
   "name": "python2"
  },
  "language_info": {
   "codemirror_mode": {
    "name": "ipython",
    "version": 2
   },
   "file_extension": ".py",
   "mimetype": "text/x-python",
   "name": "python",
   "nbconvert_exporter": "python",
   "pygments_lexer": "ipython2",
   "version": "2.7.9"
  }
 },
 "nbformat": 4,
 "nbformat_minor": 0
}
